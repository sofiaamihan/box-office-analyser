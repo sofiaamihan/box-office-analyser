{
 "cells": [
  {
   "cell_type": "code",
   "execution_count": null,
   "id": "0c74867c",
   "metadata": {},
   "outputs": [],
   "source": [
    "import pandas as pd\n",
    "import seaborn as sns\n",
    "import numpy as np\n",
    "import matplotlib.pyplot as plt\n",
    "from pandas.plotting import scatter_matrix\n",
    "from sklearn import model_selection\n",
    "from statsmodels.stats.outliers_influence import variance_inflation_factor\n",
    "from sklearn.model_selection import train_test_split, KFold, cross_val_score\n",
    "from sklearn.neighbors import KNeighborsRegressor\n",
    "from sklearn.metrics import mean_absolute_error, mean_squared_error, r2_score\n",
    "import optuna\n",
    "from time import time\n",
    "from sklearn.decomposition import PCA\n",
    "from sklearn.preprocessing import RobustScaler\n",
    "from sklearn.preprocessing import StandardScaler\n",
    "import joblib\n",
    "\n",
    "# All the Models I'll be using\n",
    "from sklearn.tree import DecisionTreeRegressor\n",
    "import catboost as cb\n",
    "from sklearn.ensemble import GradientBoostingRegressor\n",
    "import lightgbm as lgb\n",
    "import xgboost as xgb\n",
    "from sklearn.ensemble import HistGradientBoostingRegressor\n",
    "from sklearn.ensemble import RandomForestRegressor"
   ]
  },
  {
   "cell_type": "markdown",
   "id": "4d2de3cf",
   "metadata": {},
   "source": [
    "# 1. Get the Data"
   ]
  },
  {
   "cell_type": "code",
   "execution_count": null,
   "id": "1e507394",
   "metadata": {},
   "outputs": [],
   "source": [
    "# Import as variable\n",
    "df = pd.read_csv('./dataset/movie_statistic_dataset.csv')\n",
    "display(df)"
   ]
  },
  {
   "cell_type": "code",
   "execution_count": null,
   "id": "d08a0bba",
   "metadata": {},
   "outputs": [],
   "source": [
    "# Extract two random rows for deployment testing\n",
    "extract = df.sample(n=2, random_state=1)\n",
    "display(extract)\n",
    "for i in extract.index:\n",
    "    df.drop(index=i, inplace=True)\n",
    "display(df)"
   ]
  },
  {
   "cell_type": "code",
   "execution_count": null,
   "id": "75890228",
   "metadata": {},
   "outputs": [],
   "source": [
    "# Reset the index of the dataset\n",
    "df = df.reset_index()\n",
    "display(df)"
   ]
  },
  {
   "cell_type": "code",
   "execution_count": null,
   "id": "bc17d4b8",
   "metadata": {},
   "outputs": [],
   "source": [
    "# View Feature Headers\n",
    "print(list(df.columns))"
   ]
  },
  {
   "cell_type": "code",
   "execution_count": null,
   "id": "1e0277e7",
   "metadata": {},
   "outputs": [],
   "source": [
    "# Modify Feature Headers\n",
    "renamed_columns = {\n",
    "    'director_birthYear' : 'director_birth', \n",
    "    'director_deathYear': 'director_death', \n",
    "    'movie_averageRating': 'rating', \n",
    "    'movie_numerOfVotes': 'votes', \n",
    "    'approval_Index': 'approval_index', \n",
    "    'Production budget $': 'budget', \n",
    "    'Domestic gross $': 'domestic_gross', \n",
    "    'Worldwide gross $': 'worldwide_gross' \n",
    "}\n",
    "df.rename(renamed_columns, axis='columns', inplace=True)\n",
    "display(df)"
   ]
  },
  {
   "cell_type": "markdown",
   "id": "2542bb6b",
   "metadata": {},
   "source": [
    "# 2. Visualise the Data"
   ]
  },
  {
   "cell_type": "markdown",
   "id": "6f5b769d",
   "metadata": {},
   "source": [
    "## 2.1 Data Discovery and Profiling"
   ]
  },
  {
   "cell_type": "code",
   "execution_count": null,
   "id": "e9e85784",
   "metadata": {},
   "outputs": [],
   "source": [
    "# Displays\n",
    "display(df.head(5))\n",
    "display(df.tail(5))\n",
    "display(df.sample(5))"
   ]
  },
  {
   "cell_type": "code",
   "execution_count": null,
   "id": "5ed127af",
   "metadata": {},
   "outputs": [],
   "source": [
    "# Dimensions\n",
    "print(df.shape)"
   ]
  },
  {
   "cell_type": "code",
   "execution_count": null,
   "id": "be9b378f",
   "metadata": {},
   "outputs": [],
   "source": [
    "# Datatypes\n",
    "print(df.dtypes)"
   ]
  },
  {
   "cell_type": "code",
   "execution_count": null,
   "id": "effee0c0",
   "metadata": {},
   "outputs": [],
   "source": [
    "# Structural Information\n",
    "print(df.info())"
   ]
  },
  {
   "cell_type": "code",
   "execution_count": null,
   "id": "e0d713f4",
   "metadata": {},
   "outputs": [],
   "source": [
    "# NaN or Null Checks\n",
    "print(df.isnull().sum())"
   ]
  },
  {
   "cell_type": "code",
   "execution_count": null,
   "id": "0d675ad8",
   "metadata": {},
   "outputs": [],
   "source": [
    "# Infinite Value Checks\n",
    "print(np.isinf(df.select_dtypes(include=[np.number])).sum()) "
   ]
  },
  {
   "cell_type": "code",
   "execution_count": null,
   "id": "169c5412",
   "metadata": {},
   "outputs": [],
   "source": [
    "# Checking for 'Missing Values' such as '-' or '/N'\n",
    "\n",
    "# Checking production_date \n",
    "display(df[df['production_date'].str.fullmatch('-')])\n",
    "display(df[df['production_date'].str.contains('N')].sum())\n",
    "\n",
    "# Checking genres \n",
    "display(df[df['genres'].astype(str).str.fullmatch('-', na=False)].sum())\n",
    "\n",
    "# Checking director_name\n",
    "display(df[df['director_name'].str.fullmatch('-')]) # 326 rows, 7.4% of rows\n",
    "\n",
    "# Checking rating\n",
    "display(df[df['rating'].astype(str).str.fullmatch('-', na=False)].sum())\n",
    "display(df[df['rating'].astype(str).str.contains('N')].sum())\n",
    "\n",
    "# Checking votes\n",
    "display(df[df['votes'].astype(str).str.fullmatch('-', na=False)].sum())\n",
    "display(df[df['votes'].astype(str).str.contains('N')].sum())\n",
    "\n",
    "# Checking approval_index\n",
    "display(df[df['approval_index'].astype(str).str.fullmatch('-', na=False)].sum())\n",
    "display(df[df['approval_index'].astype(str).str.contains('N')].sum())\n",
    "\n",
    "# Checking budget\n",
    "display(df[df['budget'].astype(str).str.fullmatch('-', na=False)].sum())\n",
    "display(df[df['budget'].astype(str).str.contains('N')].sum())\n",
    "\n",
    "# Checking domestic_gross\n",
    "display(df[df['domestic_gross'].astype(str).str.fullmatch('-', na=False)].sum())\n",
    "display(df[df['domestic_gross'].astype(str).str.contains('N')].sum())\n",
    "\n",
    "# Checking worldwide_gross\n",
    "display(df[df['worldwide_gross'].astype(str).str.fullmatch('-', na=False)].sum())\n",
    "display(df[df['worldwide_gross'].astype(str).str.contains('N')].sum())"
   ]
  },
  {
   "cell_type": "code",
   "execution_count": null,
   "id": "bbf62176",
   "metadata": {},
   "outputs": [],
   "source": [
    "# Nominal Aggregation\n",
    "print(df.groupby('genres').size())\n",
    "print(df.groupby('director_name').size())"
   ]
  },
  {
   "cell_type": "code",
   "execution_count": null,
   "id": "4e2b4a0b",
   "metadata": {},
   "outputs": [],
   "source": [
    "# Numeric Aggregation\n",
    "print(df.groupby('votes').size()) # Displays the HUGE range of votes\n",
    "print(df.groupby('budget').size()) # Likewise\n",
    "print(df.groupby('domestic_gross').size()) # This one is interesting, which 3 movies had the SAME least dom_gross\n",
    "print(df.groupby('worldwide_gross').size()) # Likewise"
   ]
  },
  {
   "cell_type": "code",
   "execution_count": null,
   "id": "1bd44cbf",
   "metadata": {},
   "outputs": [],
   "source": [
    "# Inconsistencies\n",
    "print(df['rating'].unique())"
   ]
  },
  {
   "cell_type": "code",
   "execution_count": null,
   "id": "c98781cf",
   "metadata": {},
   "outputs": [],
   "source": [
    "# Checking Duplicates\n",
    "print(df[df.duplicated()])"
   ]
  },
  {
   "cell_type": "code",
   "execution_count": null,
   "id": "7f5c3f76",
   "metadata": {},
   "outputs": [],
   "source": [
    "# Distinct Values\n",
    "print(df.nunique())"
   ]
  },
  {
   "cell_type": "code",
   "execution_count": null,
   "id": "0026829b",
   "metadata": {},
   "outputs": [],
   "source": [
    "# Statistical Summary\n",
    "print(df.describe())"
   ]
  },
  {
   "cell_type": "code",
   "execution_count": null,
   "id": "429c799b",
   "metadata": {},
   "outputs": [],
   "source": [
    "# Modified View for Statistical Summary\n",
    "pd.options.display.float_format = '{:.2f}'.format\n",
    "print(df.describe())"
   ]
  },
  {
   "cell_type": "code",
   "execution_count": null,
   "id": "e9eddaa6",
   "metadata": {},
   "outputs": [],
   "source": [
    "# Correlation Matrix\n",
    "numeric_columns = df.select_dtypes(include=['float64', 'int64'])\n",
    "display(numeric_columns.corr())"
   ]
  },
  {
   "cell_type": "code",
   "execution_count": null,
   "id": "f2a7f8b1",
   "metadata": {},
   "outputs": [],
   "source": [
    "# Interesting Observations\n",
    "\n",
    "# 1 - Checking the odd 3 movies that happen to have the exact same lowest revenue value\n",
    "df_sorted = df.sort_values(by='domestic_gross', ascending=True)\n",
    "display(df_sorted.head(3))\n",
    "\n",
    "# 2 - Reviewing all the movies with the same title\n",
    "df_duplicates = df[df.duplicated(subset=['movie_title'], keep=False)].sort_values(by='movie_title')\n",
    "display(df_duplicates)\n",
    "\n",
    "# 3 - Movie with the longest runtime\n",
    "df_sorted = df.sort_values(by='runtime_minutes', ascending=False)\n",
    "top = pd.DataFrame(df_sorted.head(1))\n",
    "display(top)\n",
    "\n",
    "# 4 - Movie with the highest budget\n",
    "display(df[df['budget'] == df['budget'].max()])\n",
    "\n",
    "# 5 - Movie with the highest worldwide gross\n",
    "display(df[df['worldwide_gross'] == df['worldwide_gross'].max()])"
   ]
  },
  {
   "cell_type": "markdown",
   "id": "d85ff516",
   "metadata": {},
   "source": [
    "## 2.2 Exploratory Data Analysis"
   ]
  },
  {
   "cell_type": "code",
   "execution_count": null,
   "id": "3342211b",
   "metadata": {},
   "outputs": [],
   "source": [
    "# Individual Frequency - Top 10 Genres\n",
    "genres_separate = df['genres'].str.split(',').explode()\n",
    "top_10_genres = genres_separate.value_counts().nlargest(10)\n",
    "plt.figure(figsize=(10, 6))\n",
    "sns.barplot(\n",
    "    x=top_10_genres.index,  \n",
    "    y=top_10_genres.values,  \n",
    "    palette='dark:lightcoral',\n",
    "    hue=top_10_genres.index\n",
    ")\n",
    "plt.title('Top 10 Genres by Frequency', fontsize=14)\n",
    "plt.xlabel('Genre')\n",
    "plt.ylabel('Frequency')\n",
    "plt.xticks(rotation=45, ha='right')\n",
    "plt.grid(axis='y', linestyle='--', alpha=0.7)\n",
    "plt.tight_layout()\n",
    "plt.show()"
   ]
  },
  {
   "cell_type": "code",
   "execution_count": null,
   "id": "05dc64dc",
   "metadata": {},
   "outputs": [],
   "source": [
    "# Individual Frequency - Top 10 Directors\n",
    "top_10_directors_by_frequency = df['director_name'].value_counts().nlargest(10)\n",
    "plt.figure(figsize=(10, 6))\n",
    "sns.barplot(\n",
    "    x=top_10_directors_by_frequency.index,  \n",
    "    y=top_10_directors_by_frequency.values,  \n",
    "    palette='dark:lightcoral',\n",
    "    hue=top_10_directors_by_frequency.index\n",
    ")\n",
    "plt.title('Top 10 Directors by Frequency', fontsize=14)\n",
    "plt.xlabel('Director')\n",
    "plt.ylabel('Number of Movies Directed')\n",
    "plt.xticks(rotation=45, ha='right')\n",
    "plt.grid(axis='y', linestyle='--', alpha=0.7)\n",
    "plt.tight_layout()\n",
    "plt.show()"
   ]
  },
  {
   "cell_type": "code",
   "execution_count": null,
   "id": "e39d57e3",
   "metadata": {},
   "outputs": [],
   "source": [
    "# Individual Frequency - Years\n",
    "df['date'] = pd.to_datetime(df['production_date'], errors='coerce')  \n",
    "df['year'] = df['date'].dt.year  \n",
    "plt.figure(figsize=(10, 6))\n",
    "sns.histplot(\n",
    "    df['year'], \n",
    "    bins=range(df['year'].min(), df['year'].max() + 1), \n",
    "    color='lightcoral', \n",
    "    edgecolor='lightcoral', \n",
    "    kde=True\n",
    ")\n",
    "plt.title('Histogram Distribution of Years', fontsize=14)\n",
    "plt.xlabel('Year')\n",
    "plt.ylabel('Frequency')\n",
    "plt.grid(axis='y', linestyle='--', alpha=0.7)\n",
    "plt.tight_layout()\n",
    "plt.show()\n",
    "# Undo Dataframe Manipulation\n",
    "del df['date']\n",
    "del df['year']"
   ]
  },
  {
   "cell_type": "code",
   "execution_count": null,
   "id": "80f34f40",
   "metadata": {},
   "outputs": [],
   "source": [
    "# Individual Frequency - Months\n",
    "df['date'] = pd.to_datetime(df['production_date'], errors='coerce')  \n",
    "df['month'] = df['date'].dt.month  \n",
    "plt.figure(figsize=(10, 6))\n",
    "ax = sns.histplot(\n",
    "    df['month'], \n",
    "    bins=range(df['month'].min(), df['month'].max() + 1), \n",
    "    color='lightcoral', \n",
    "    edgecolor='lightcoral', \n",
    "    kde=True\n",
    ")\n",
    "for patch in ax.patches:\n",
    "    height = patch.get_height()\n",
    "    if height > 0:  \n",
    "        plt.text(\n",
    "            patch.get_x() + patch.get_width() / 2,  \n",
    "            height,  # Bar height\n",
    "            f'{int(height)}',  \n",
    "            ha='center', \n",
    "            va='bottom', \n",
    "            fontsize=8\n",
    "        )\n",
    "plt.title('Histogram Distribution of Month', fontsize=14)\n",
    "plt.xlabel('Month')\n",
    "plt.ylabel('Frequency')\n",
    "plt.grid(axis='y', linestyle='--', alpha=0.7)\n",
    "plt.tight_layout()\n",
    "plt.show()\n",
    "# Undo Dataframe Manipulation\n",
    "del df['date']\n",
    "del df['month']"
   ]
  },
  {
   "cell_type": "code",
   "execution_count": null,
   "id": "db3331f8",
   "metadata": {},
   "outputs": [],
   "source": [
    "# Individual Frequency - Days\n",
    "df['date'] = pd.to_datetime(df['production_date'], errors='coerce')  \n",
    "df['day'] = df['date'].dt.day  \n",
    "plt.figure(figsize=(10, 6))\n",
    "sns.histplot(\n",
    "    df['day'], \n",
    "    bins=range(df['day'].min(), df['day'].max() + 1), \n",
    "    color='lightcoral', \n",
    "    edgecolor='lightcoral', \n",
    "    kde=True\n",
    ")\n",
    "plt.title('Histogram Distribution of Days', fontsize=14)\n",
    "plt.xlabel('Day')\n",
    "plt.ylabel('Frequency')\n",
    "plt.grid(axis='y', linestyle='--', alpha=0.7)\n",
    "plt.tight_layout()\n",
    "plt.show()\n",
    "# Undo Dataframe Manipulation\n",
    "del df['date']\n",
    "del df['day']"
   ]
  },
  {
   "cell_type": "code",
   "execution_count": null,
   "id": "9ade1be5",
   "metadata": {},
   "outputs": [],
   "source": [
    "# Individual Frequency - Runtime Minutes\n",
    "plt.figure(figsize=(10, 6))\n",
    "ax = sns.histplot(\n",
    "    df['runtime_minutes'], \n",
    "    bins=range(int(df['runtime_minutes'].min()), int(df['runtime_minutes'].max()) + 1), \n",
    "    color='lightcoral', \n",
    "    edgecolor='lightcoral', \n",
    "    kde=True\n",
    ")\n",
    "for patch in ax.patches:\n",
    "    height = patch.get_height()\n",
    "    if height > 0:  \n",
    "        plt.text(\n",
    "            patch.get_x() + patch.get_width() / 2,  \n",
    "            height,  # Bar height\n",
    "            f'{int(height)}',  \n",
    "            ha='center', \n",
    "            va='bottom', \n",
    "            fontsize=8\n",
    "        )\n",
    "plt.title('Histogram Distribution of Runtime Minutes', fontsize=14)\n",
    "plt.xlabel('Runtime Minutes')\n",
    "plt.ylabel('Frequency')\n",
    "plt.grid(axis='y', linestyle='--', alpha=0.7)\n",
    "plt.tight_layout()\n",
    "plt.show()"
   ]
  },
  {
   "cell_type": "code",
   "execution_count": null,
   "id": "c1b0f12c",
   "metadata": {},
   "outputs": [],
   "source": [
    "# Individual Frequency - Ratings\n",
    "plt.figure(figsize=(10, 6))\n",
    "ax = sns.histplot(\n",
    "    df['rating'], \n",
    "    bins=range(int(df['rating'].min()), int(df['rating'].max()) + 1), \n",
    "    color='lightcoral', \n",
    "    edgecolor='lightcoral', \n",
    "    kde=True\n",
    ")\n",
    "plt.title('Histogram Distribution of Ratings', fontsize=14)\n",
    "plt.xlabel('Rating')\n",
    "plt.ylabel('Frequency')\n",
    "plt.grid(axis='y', linestyle='--', alpha=0.7)\n",
    "plt.tight_layout()\n",
    "plt.show()"
   ]
  },
  {
   "cell_type": "code",
   "execution_count": null,
   "id": "d521d0b4",
   "metadata": {},
   "outputs": [],
   "source": [
    "# Individual Frequency - Votes\n",
    "plt.figure(figsize=(10, 6))\n",
    "ax = sns.histplot(\n",
    "    df['votes'], \n",
    "    bins=50, \n",
    "    color='lightcoral', \n",
    "    edgecolor='lightcoral', \n",
    "    kde=True\n",
    ")\n",
    "for patch in ax.patches:\n",
    "    height = patch.get_height()\n",
    "    if height > 0:  \n",
    "        plt.text(\n",
    "            patch.get_x() + patch.get_width() / 2,  \n",
    "            height,  # Bar height\n",
    "            f'{int(height)}',  \n",
    "            ha='center', \n",
    "            va='bottom', \n",
    "            fontsize=8\n",
    "        )\n",
    "plt.title('Histogram Distribution of Votes', fontsize=14)\n",
    "plt.xlabel('Votes')\n",
    "plt.ylabel('Frequency')\n",
    "plt.grid(axis='y', linestyle='--', alpha=0.7)\n",
    "plt.tight_layout()\n",
    "plt.show()"
   ]
  },
  {
   "cell_type": "code",
   "execution_count": null,
   "id": "ac7297dd",
   "metadata": {},
   "outputs": [],
   "source": [
    "# Individual Frequency - Approval Index\n",
    "plt.figure(figsize=(10, 6))\n",
    "sns.histplot(\n",
    "    df['approval_index'], \n",
    "    bins=50, \n",
    "    color='lightcoral', \n",
    "    edgecolor='lightcoral', \n",
    "    kde=True\n",
    ")\n",
    "plt.title('Histogram Distribution of Approval Index', fontsize=14)\n",
    "plt.xlabel('Approval Index')\n",
    "plt.ylabel('Frequency')\n",
    "plt.grid(axis='y', linestyle='--', alpha=0.7)\n",
    "plt.tight_layout()\n",
    "plt.show()"
   ]
  },
  {
   "cell_type": "code",
   "execution_count": null,
   "id": "ae34459c",
   "metadata": {},
   "outputs": [],
   "source": [
    "# Individual Frequency - Budget\n",
    "plt.figure(figsize=(10, 6))\n",
    "ax = sns.histplot(\n",
    "    df['budget'], \n",
    "    bins=50, \n",
    "    color='lightcoral', \n",
    "    edgecolor='lightcoral', \n",
    "    kde=True\n",
    ")\n",
    "for patch in ax.patches:\n",
    "    height = patch.get_height()\n",
    "    if height > 0:  \n",
    "        plt.text(\n",
    "            patch.get_x() + patch.get_width() / 2,  \n",
    "            height,  # Bar height\n",
    "            f'{int(height)}',  \n",
    "            ha='center', \n",
    "            va='bottom', \n",
    "            fontsize=8\n",
    "        )\n",
    "plt.title('Histogram Distribution of Budget', fontsize=14)\n",
    "plt.xlabel('Budget')\n",
    "plt.ylabel('Frequency')\n",
    "plt.grid(axis='y', linestyle='--', alpha=0.7)\n",
    "plt.tight_layout()\n",
    "plt.show()"
   ]
  },
  {
   "cell_type": "code",
   "execution_count": null,
   "id": "d62e1a85",
   "metadata": {},
   "outputs": [],
   "source": [
    "# Individual Frequency - Domestic Gross $\n",
    "plt.figure(figsize=(10, 6))\n",
    "sns.histplot(\n",
    "    df['domestic_gross'], \n",
    "    bins=50, \n",
    "    color='lightcoral', \n",
    "    edgecolor='lightcoral', \n",
    "    log_scale=True,\n",
    "    kde=True\n",
    ")\n",
    "plt.title('Histogram Distribution of Domestic Gross Revenue $', fontsize=14)\n",
    "plt.xlabel('Domestic Gross $ (log scale)')\n",
    "plt.ylabel('Frequency')\n",
    "plt.grid(axis='y', linestyle='--', alpha=0.7)\n",
    "plt.tight_layout()\n",
    "plt.show()"
   ]
  },
  {
   "cell_type": "code",
   "execution_count": null,
   "id": "ecf2e0de",
   "metadata": {},
   "outputs": [],
   "source": [
    "# Individual Frequency - Worldwide Gross $ \n",
    "plt.figure(figsize=(10, 6))\n",
    "sns.histplot(\n",
    "    df['domestic_gross'], \n",
    "    bins=50, \n",
    "    color='lightcoral', \n",
    "    edgecolor='lightcoral', \n",
    "    log_scale=True, \n",
    "    kde=True\n",
    ")\n",
    "plt.title('Histogram Distribution of Worldwide Gross Revenue $')\n",
    "plt.xlabel('Worldwide Gross $ (log scale)')\n",
    "plt.ylabel('Frequency')\n",
    "plt.grid(axis='y', linestyle='--', alpha=0.7)\n",
    "plt.tight_layout()\n",
    "plt.show()"
   ]
  },
  {
   "cell_type": "code",
   "execution_count": null,
   "id": "4c6533aa",
   "metadata": {},
   "outputs": [],
   "source": [
    "# Comparison Against Worldwide Gross - Top 10 Movies\n",
    "top_10_movies = df.nlargest(10, 'worldwide_gross')\n",
    "plt.figure(figsize=(10, 6))\n",
    "sns.barplot(\n",
    "    x='movie_title',  \n",
    "    y='worldwide_gross',  \n",
    "    data=top_10_movies,  \n",
    "    palette='dark:lightcoral',\n",
    "    hue='movie_title'\n",
    ")\n",
    "plt.title('Top 10 Movies by Worldwide Gross', fontsize=14)\n",
    "plt.xlabel('Movie Title')\n",
    "plt.ylabel('Worldwide Gross (in billions)') # not sure if its actually in billiond\n",
    "plt.xticks(rotation=45, ha='right') \n",
    "plt.grid(axis='y', linestyle='--', alpha=0.7)\n",
    "plt.tight_layout()\n",
    "plt.show()\n",
    "\n",
    "# 18% have the exact same values !!\n",
    "same_gross_df = df[df['domestic_gross'] == df['worldwide_gross']]\n",
    "display(same_gross_df)"
   ]
  },
  {
   "cell_type": "code",
   "execution_count": null,
   "id": "2813a04f",
   "metadata": {},
   "outputs": [],
   "source": [
    "# Comparison Against Worldwide Gross - Top 10 Genres\n",
    "genres_exploded = df['genres'].str.split(',').explode()\n",
    "genres_exploded_with_gross = df.loc[genres_exploded.index, ['worldwide_gross']].copy()\n",
    "top_10_genres_by_gross = genres_exploded_with_gross.groupby(genres_exploded).sum().nlargest(10, 'worldwide_gross')\n",
    "plt.figure(figsize=(10, 6))\n",
    "sns.barplot(\n",
    "    x=top_10_genres_by_gross.index,  \n",
    "    y=top_10_genres_by_gross['worldwide_gross'],  \n",
    "    palette='dark:lightcoral',\n",
    "    hue=top_10_genres_by_gross.index\n",
    ")\n",
    "plt.title('Top 10 Genres by Worldwide Gross', fontsize=14)\n",
    "plt.xlabel('Genre')\n",
    "plt.ylabel('Total Worldwide Gross (in billions)')  # assuming it's in billions\n",
    "plt.xticks(rotation=45, ha='right')\n",
    "plt.grid(axis='y', linestyle='--', alpha=0.7)\n",
    "plt.tight_layout()\n",
    "plt.show()"
   ]
  },
  {
   "cell_type": "code",
   "execution_count": null,
   "id": "0a1d858c",
   "metadata": {},
   "outputs": [],
   "source": [
    "# Comparison Against Worldwide Gross - Top 10 Directors\n",
    "top_10_directors = df.groupby('director_name')['worldwide_gross'].sum().nlargest(10)\n",
    "plt.figure(figsize=(10, 6))\n",
    "sns.barplot(\n",
    "    x=top_10_directors.index,  \n",
    "    y=top_10_directors.values,  \n",
    "    palette='dark:lightcoral',\n",
    "    hue=top_10_directors.index\n",
    ")\n",
    "plt.title('Top 10 Directors by Worldwide Gross', fontsize=14)\n",
    "plt.xlabel('Director')\n",
    "plt.ylabel('Total Worldwide Gross (in billions)')  \n",
    "plt.xticks(rotation=45, ha='right') \n",
    "plt.grid(axis='y', linestyle='--', alpha=0.7)\n",
    "plt.tight_layout()\n",
    "plt.show()"
   ]
  },
  {
   "cell_type": "code",
   "execution_count": null,
   "id": "84c5bd13",
   "metadata": {},
   "outputs": [],
   "source": [
    "# Relationships - Distribution of Domestic Gross in Worldwide Gross\n",
    "df['percentage'] = (df['domestic_gross'] / df['worldwide_gross']) * 100\n",
    "percentage_df = df[['percentage']]\n",
    "del df['percentage']\n",
    "plt.figure(figsize=(8, 6))\n",
    "sns.histplot(percentage_df['percentage'], bins=10, kde=True, color='lightcoral', edgecolor='lightcoral')\n",
    "plt.xlabel('Domestic Gross Percentage (%)')\n",
    "plt.ylabel('Frequency')\n",
    "plt.title('Distribution of Domestic Gross in Worldwide Gross')\n",
    "plt.show()"
   ]
  },
  {
   "cell_type": "code",
   "execution_count": null,
   "id": "6a5dbccc",
   "metadata": {},
   "outputs": [],
   "source": [
    "# Relationships - Heatmap\n",
    "numeric_columns = df.select_dtypes(include=['float64', 'int64'])\n",
    "correlation_matrix = numeric_columns.corr()\n",
    "plt.figure(figsize=(10, 8))\n",
    "sns.heatmap(\n",
    "    correlation_matrix,\n",
    "    annot=True,\n",
    "    fmt=\".2f\",\n",
    "    cmap=\"pink\",\n",
    "    linewidths=0.5,\n",
    "    cbar_kws={'label': 'Correlation Coefficient'}\n",
    ")\n",
    "plt.title('Heatmap of Numeric Features', fontsize=14)\n",
    "plt.tight_layout()\n",
    "plt.show()"
   ]
  },
  {
   "cell_type": "code",
   "execution_count": null,
   "id": "423d467e",
   "metadata": {},
   "outputs": [],
   "source": [
    "# Relationships - Scatter / PairPlot Matrix\n",
    "numeric_features = [\n",
    "    'runtime_minutes', \n",
    "    'rating', \n",
    "    'votes', \n",
    "    'approval_index', \n",
    "    'budget', \n",
    "    'domestic_gross', \n",
    "    'worldwide_gross'\n",
    "]\n",
    "sns.pairplot(df[numeric_features], plot_kws={'color': 'lightcoral'})\n",
    "plt.suptitle('Scatter/PairPlot Matrix of Numeric Features', y=1.02, fontsize=14)\n",
    "plt.show()"
   ]
  },
  {
   "cell_type": "code",
   "execution_count": null,
   "id": "f97a0b4d",
   "metadata": {},
   "outputs": [],
   "source": [
    "display(df)"
   ]
  },
  {
   "cell_type": "code",
   "execution_count": null,
   "id": "545c33e9",
   "metadata": {},
   "outputs": [],
   "source": []
  }
 ],
 "metadata": {
  "kernelspec": {
   "display_name": "Python 3",
   "language": "python",
   "name": "python3"
  },
  "language_info": {
   "codemirror_mode": {
    "name": "ipython",
    "version": 3
   },
   "file_extension": ".py",
   "mimetype": "text/x-python",
   "name": "python",
   "nbconvert_exporter": "python",
   "pygments_lexer": "ipython3",
   "version": "3.13.0"
  }
 },
 "nbformat": 4,
 "nbformat_minor": 5
}
